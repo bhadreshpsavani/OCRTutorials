{
  "nbformat": 4,
  "nbformat_minor": 0,
  "metadata": {
    "colab": {
      "name": "MultilanguageOCRTutorial .ipynb",
      "provenance": [],
      "authorship_tag": "ABX9TyMMkg3ZzHVTbyDfVynaM1iY",
      "include_colab_link": true
    },
    "kernelspec": {
      "name": "python3",
      "display_name": "Python 3"
    },
    "accelerator": "GPU"
  },
  "cells": [
    {
      "cell_type": "markdown",
      "metadata": {
        "id": "view-in-github",
        "colab_type": "text"
      },
      "source": [
        "<a href=\"https://colab.research.google.com/github/bhadreshpsavani/OCRTutorials/blob/master/MultilanguageOCRTutorial_.ipynb\" target=\"_parent\"><img src=\"https://colab.research.google.com/assets/colab-badge.svg\" alt=\"Open In Colab\"/></a>"
      ]
    },
    {
      "cell_type": "markdown",
      "metadata": {
        "id": "9fC5lZIrt42y",
        "colab_type": "text"
      },
      "source": [
        "# MultiLanguage OCR Detection and Extraction:\n",
        "We are going to use [`EasyOCR`](https://github.com/JaidedAI/EasyOCR) Library for Multilanguage Detection,\n",
        "\n",
        "They are currently supporting the following 54 languages:\n",
        "\n",
        "Afrikaans (af), Azerbaijani (az), Belarusian (be), Bulgarian (bg), Bosnian (bs), Simplified Chinese (ch_sim), Traditional Chinese (ch_tra), Czech (cs), Welsh (cy), Danish (da), German (de), English (en), Spanish (es), Estonian (et), French (fr), Irish (ga), Hindi(hi), Croatian (hr), Hungarian (hu), Indonesian (id), Icelandic (is), Italian (it), Japanese (ja), Korean (ko), Kurdish (ku), Latin (la), Lithuanian (lt), Latvian (lv), Maori (mi), Mongolian (mn), Marathi (mr), Malay (ms), Maltese (mt), Nepali (ne), Dutch (nl), Norwegian (no), Occitan (oc), Polish (pl), Portuguese (pt), Romanian (ro), Russian (ru), Serbian (cyrillic)(rs_cyrillic), Serbian (latin)(rs_latin), Slovak (sk) (need revisit), Slovenian (sl), Albanian (sq), Swedish (sv), Swahili (sw), Thai (th), Tagalog (tl), Turkish (tr), Ukranian(uk), Uzbek (uz), Vietnamese (vi)\n",
        "\n",
        "## Installation\n"
      ]
    },
    {
      "cell_type": "code",
      "metadata": {
        "id": "fADEB0RmqEFl",
        "colab_type": "code",
        "colab": {
          "base_uri": "https://localhost:8080/",
          "height": 121
        },
        "outputId": "c4d40d78-e7cc-4f5c-d5f7-aac7091150e1"
      },
      "source": [
        "!pip install easyocr --no-deps # Colab already has all dependencies"
      ],
      "execution_count": 1,
      "outputs": [
        {
          "output_type": "stream",
          "text": [
            "Collecting easyocr\n",
            "\u001b[?25l  Downloading https://files.pythonhosted.org/packages/68/c7/d6feb317ba3045552669482893baff6f99e80f36d05068df43f1d1445e38/easyocr-1.1.5-py3-none-any.whl (43.1MB)\n",
            "\u001b[K     |████████████████████████████████| 43.1MB 68kB/s \n",
            "\u001b[?25hInstalling collected packages: easyocr\n",
            "Successfully installed easyocr-1.1.5\n"
          ],
          "name": "stdout"
        }
      ]
    },
    {
      "cell_type": "code",
      "metadata": {
        "id": "b3qXqQEbq6-x",
        "colab_type": "code",
        "colab": {}
      },
      "source": [
        "# Create a reader to do OCR.\n",
        "# If you change to GPU instance, it will be faster. But CPU is enough.\n",
        "# (by MENU > Runtime > Change runtime type > GPU, then redo from beginning )\n",
        "import easyocr\n",
        "#specify shortform of language you want to extract,\n",
        "# I am using Hindi(hi) here \n",
        "reader = easyocr.Reader(['hi','en'])"
      ],
      "execution_count": 23,
      "outputs": []
    },
    {
      "cell_type": "markdown",
      "metadata": {
        "id": "nBHv1id7uYWf",
        "colab_type": "text"
      },
      "source": [
        "### Text Extraction on High Quality Image"
      ]
    },
    {
      "cell_type": "code",
      "metadata": {
        "id": "skJ6g3cCteLy",
        "colab_type": "code",
        "colab": {
          "base_uri": "https://localhost:8080/",
          "height": 369
        },
        "outputId": "a76937d5-54af-4059-90e3-50408806d56e"
      },
      "source": [
        "# Read Image\n",
        "im = PIL.Image.open(\"Hindi_fonts.png\")\n",
        "im"
      ],
      "execution_count": 25,
      "outputs": [
        {
          "output_type": "execute_result",
          "data": {
            "image/png": "[encoded data removed]",
            "text/plain": [
              "<PIL.PngImagePlugin.PngImageFile image mode=RGBA size=391x352 at 0x7FBBF9B9BC50>"
            ]
          },
          "metadata": {
            "tags": []
          },
          "execution_count": 25
        }
      ]
    },
    {
      "cell_type": "code",
      "metadata": {
        "id": "P4pCV2-Nscyb",
        "colab_type": "code",
        "colab": {
          "base_uri": "https://localhost:8080/",
          "height": 185
        },
        "outputId": "8b17ab74-acc8-466e-d9af-e74376a35379"
      },
      "source": [
        "# Doing OCR. Get bounding boxes.\n",
        "bounds = reader.readtext('Hindi_fonts.png', detail=0) #detail=0 argument will only give text in array\n",
        "bounds"
      ],
      "execution_count": 26,
      "outputs": [
        {
          "output_type": "execute_result",
          "data": {
            "text/plain": [
              "['-00',\n",
              " 'l0nE',\n",
              " 'भारत माता की जय',\n",
              " 'Bold ७००',\n",
              " 'भारत माता की जय',\n",
              " 'L०० Italic',\n",
              " 'l0nE',\n",
              " 'भारत माता की जय',\n",
              " 'Bold ७०० Italic',\n",
              " 'भारत माता की जय']"
            ]
          },
          "metadata": {
            "tags": []
          },
          "execution_count": 26
        }
      ]
    },
    {
      "cell_type": "markdown",
      "metadata": {
        "id": "DlIETUBwwjLy",
        "colab_type": "text"
      },
      "source": [
        "## Text Detection"
      ]
    },
    {
      "cell_type": "code",
      "metadata": {
        "id": "BOpdlaFLwpGB",
        "colab_type": "code",
        "colab": {
          "base_uri": "https://localhost:8080/",
          "height": 454
        },
        "outputId": "016df060-34dc-4c8a-a7e8-8c0252a2c040"
      },
      "source": [
        "# Doing OCR. Get bounding boxes.\n",
        "bounds = reader.readtext('Hindi_fonts.png', detail=1) #detail=1 argument will only give text with its position in an image\n",
        "bounds"
      ],
      "execution_count": 27,
      "outputs": [
        {
          "output_type": "execute_result",
          "data": {
            "text/plain": [
              "[([[49, 29], [71, 29], [71, 41], [49, 41]], '-00', 0.40365132689476013),\n",
              " ([[14, 30], [44, 30], [44, 38], [14, 38]], 'l0nE', 0.00010203746205661446),\n",
              " ([[12, 48], [206, 48], [206, 78], [12, 78]],\n",
              "  'भारत माता की जय',\n",
              "  0.0797141045331955),\n",
              " ([[13, 107], [59, 107], [59, 119], [13, 119]],\n",
              "  'Bold ७००',\n",
              "  0.3968919515609741),\n",
              " ([[11, 124], [224, 124], [224, 156], [11, 156]],\n",
              "  'भारत माता की जय',\n",
              "  0.0513167679309845),\n",
              " ([[49, 183], [95, 183], [95, 195], [49, 195]],\n",
              "  'L०० Italic',\n",
              "  0.10786763578653336),\n",
              " ([[14, 184], [44, 184], [44, 192], [14, 192]],\n",
              "  'l0nE',\n",
              "  0.00010203746205661446),\n",
              " ([[14, 200], [228, 200], [228, 232], [14, 232]],\n",
              "  'भारत माता की जय',\n",
              "  0.030513780191540718),\n",
              " ([[13, 259], [83, 259], [83, 273], [13, 273]],\n",
              "  'Bold ७०० Italic',\n",
              "  0.5405768752098083),\n",
              " ([[13, 275], [229, 275], [229, 311], [13, 311]],\n",
              "  'भारत माता की जय',\n",
              "  0.08109372109174728)]"
            ]
          },
          "metadata": {
            "tags": []
          },
          "execution_count": 27
        }
      ]
    },
    {
      "cell_type": "code",
      "metadata": {
        "id": "HwgfZtfdtS75",
        "colab_type": "code",
        "colab": {
          "base_uri": "https://localhost:8080/",
          "height": 369
        },
        "outputId": "32aff613-bc56-44c9-bb50-73c105048f6c"
      },
      "source": [
        "# Draw bounding boxes\n",
        "def draw_boxes(image, bounds, color='yellow', width=2):\n",
        "    draw = ImageDraw.Draw(image)\n",
        "    for bound in bounds:\n",
        "        p0, p1, p2, p3 = bound[0]\n",
        "        draw.line([*p0, *p1, *p2, *p3, *p0], fill=color, width=width)\n",
        "    return image\n",
        "\n",
        "draw_boxes(im, bounds)"
      ],
      "execution_count": 28,
      "outputs": [
        {
          "output_type": "execute_result",
          "data": {
            "image/png": "[encoded data removed]",
            "text/plain": [
              "<PIL.PngImagePlugin.PngImageFile image mode=RGBA size=391x352 at 0x7FBBF9B9BC50>"
            ]
          },
          "metadata": {
            "tags": []
          },
          "execution_count": 28
        }
      ]
    },
    {
      "cell_type": "markdown",
      "metadata": {
        "id": "AQzlaFnGw06h",
        "colab_type": "text"
      },
      "source": [
        "This amazing results makes [`EasyOCR`](https://github.com/JaidedAI/EasyOCR) my favourite library"
      ]
    },
    {
      "cell_type": "markdown",
      "metadata": {
        "id": "M7CNtpPRxZWu",
        "colab_type": "text"
      },
      "source": [
        "### Pros:\n",
        "* Support Detection and Extraction\n",
        "* Opensource Tool\n",
        "* Easy to Use tool\n",
        "* Support Multiple Language\n",
        "* Deep Learning based Tool(AI Powered)"
      ]
    },
    {
      "cell_type": "markdown",
      "metadata": {
        "id": "1MHskWCbxZUQ",
        "colab_type": "text"
      },
      "source": [
        "### Cons:\n",
        "* For Running on CPU it requires more time since its optimized for GPU\n",
        "* Does not perform well on very Low Quality Images\n",
        "* Text Extraction Accuracy decreases with lower Font Size\n",
        "* Does not work well with all the Different Fonts of Particular Language"
      ]
    }
  ]
}